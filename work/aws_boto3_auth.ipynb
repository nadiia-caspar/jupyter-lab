{
 "cells": [
  {
   "attachments": {},
   "cell_type": "markdown",
   "id": "780ec06a",
   "metadata": {},
   "source": [
    "# AWS boto3 Authentication with Assume Role and MFA Token"
   ]
  },
  {
   "cell_type": "code",
   "execution_count": 3,
   "id": "091d88de-ef55-44ca-be8e-6626c339ab04",
   "metadata": {},
   "outputs": [
    {
     "name": "stdout",
     "output_type": "stream",
     "text": [
      "Enter the MFA code:  004581\n"
     ]
    },
    {
     "name": "stdout",
     "output_type": "stream",
     "text": [
      "Assumed role arn:aws:iam::212762837485:role/allow-ops-admin-access-from-other-accounts and got temporary credentials.\n"
     ]
    }
   ],
   "source": [
    "import os\n",
    "import boto3\n",
    "\n",
    "assume_role_arn = os.environ['AWS_ROLE_ARN']\n",
    "session_name = os.environ['AWS_ROLE_SESSION_NAME']\n",
    "mfa_serial_number = os.environ['MFA_SERIAL_NUMBER']\n",
    "\n",
    "# Get MFA token\n",
    "mfa_totp = input(\"Enter the MFA code: \")\n",
    "\n",
    "\n",
    "def role_arn_to_session(*args):\n",
    "    \"\"\"\n",
    "    The function requires the following arguments:\n",
    "        role_arn_to_session(\n",
    "            assume_role_arn - 'arn:aws:iam::<ACCOUNT_NUMBER>:role/example-role',\n",
    "            session_name - Specifies the name to attach to the role session\n",
    "            mfa_serial_number - ARN of the MFA device,\n",
    "            mfa_totp - MFA Time-based one-time password\n",
    "        )\n",
    "    \"\"\"\n",
    "    \n",
    "    # Create IAM client\n",
    "    sts_client = boto3.client('sts')\n",
    "    response = sts_client.assume_role(\n",
    "        RoleArn=assume_role_arn,\n",
    "        RoleSessionName=session_name,\n",
    "        SerialNumber=mfa_serial_number,\n",
    "        TokenCode=mfa_totp,\n",
    "    )\n",
    "    \n",
    "    temp_credentials = response[\"Credentials\"]\n",
    "    print(f\"Assumed role {assume_role_arn} and got temporary credentials.\")\n",
    "    return temp_credentials\n",
    "\n",
    "\n",
    "temp_credentials = role_arn_to_session(assume_role_arn, session_name, mfa_serial_number, mfa_totp)"
   ]
  },
  {
   "cell_type": "code",
   "execution_count": 4,
   "id": "557c6ff2-e0fa-4751-b7d0-4edf1c3cd763",
   "metadata": {},
   "outputs": [
    {
     "name": "stdout",
     "output_type": "stream",
     "text": [
      "Listing buckets for the assumed role's account:\n",
      "caspar-health-dev-auto-created-accounts\n",
      "caspar-health-dev-bulk-patients\n",
      "caspar-health-dev-hl7\n",
      "caspar-health-dev-ktl-reports\n",
      "caspar-health-dev-openvpn-backup\n",
      "caspar-health-dev-terraform-state\n",
      "caspar-health-dev-therapy-modules\n",
      "caspar-health-dev-therapy-modules-import\n",
      "caspar-health-dev-therapy-modules-recalculation\n",
      "caspar-health-dev-videos\n",
      "caspar-health-dev-videos-abr-eu-central-1\n",
      "caspar-health-dev-videos-abr-eu-central-1-cloudfront-logs\n",
      "caspar-health-dev-videos-abr-eu-central-1-mpd-cloudfront-logs\n",
      "caspar-health-dev-videos-cloudfront-logs\n",
      "caspar-health-dev-videos-input-eu-central-1\n",
      "caspar-health-macie-results-dev\n",
      "datadog-forwarder-forwarderbucket-1mck5zbf9pq1p\n",
      "datadog-forwarder-media-converter-forwarderbucket-71kprxkph1f\n",
      "lacework-agentless-scanning-bucket-a17eca26\n",
      "textract-console-eu-central-1-296c327b-154a-43a5-b192-aa9b164ee\n"
     ]
    }
   ],
   "source": [
    "# Create the S3 client\n",
    "s3_resource = boto3.resource('s3',\n",
    "                             aws_access_key_id=temp_credentials[\"AccessKeyId\"],\n",
    "                             aws_secret_access_key=temp_credentials[\"SecretAccessKey\"],\n",
    "                             aws_session_token=temp_credentials[\"SessionToken\"])\n",
    "\n",
    "print(f\"Listing buckets for the assumed role's account:\")\n",
    "for bucket in s3_resource.buckets.all():\n",
    "    print(bucket.name)"
   ]
  },
  {
   "cell_type": "code",
   "execution_count": 5,
   "id": "7e1d4ffd-dd86-4b97-a90e-45de9439beac",
   "metadata": {},
   "outputs": [
    {
     "name": "stdout",
     "output_type": "stream",
     "text": [
      "{'Adapters': [], 'ResponseMetadata': {'RequestId': '16f45392-53c8-45df-9555-f7c82d1e6312', 'HTTPStatusCode': 200, 'HTTPHeaders': {'x-amzn-requestid': '16f45392-53c8-45df-9555-f7c82d1e6312', 'content-type': 'application/x-amz-json-1.1', 'content-length': '15', 'date': 'Thu, 16 Nov 2023 15:23:05 GMT'}, 'RetryAttempts': 0}}\n"
     ]
    }
   ],
   "source": [
    "# Create the Textract client\n",
    "\n",
    "from datetime import datetime\n",
    "\n",
    "client = boto3.client('textract', region_name='eu-central-1')\n",
    "\n",
    "response_textract = client.list_adapters(\n",
    "    AfterCreationTime=datetime(2015, 1, 1),\n",
    "    BeforeCreationTime=datetime(2015, 1, 1),\n",
    "    MaxResults=123\n",
    ")\n",
    "print(response_textract)"
   ]
  },
  {
   "cell_type": "code",
   "execution_count": null,
   "id": "42f14d21-d475-47e4-9453-e78830306ec4",
   "metadata": {},
   "outputs": [],
   "source": []
  }
 ],
 "metadata": {
  "kernelspec": {
   "display_name": "Python 3 (ipykernel)",
   "language": "python",
   "name": "python3"
  },
  "language_info": {
   "codemirror_mode": {
    "name": "ipython",
    "version": 3
   },
   "file_extension": ".py",
   "mimetype": "text/x-python",
   "name": "python",
   "nbconvert_exporter": "python",
   "pygments_lexer": "ipython3",
   "version": "3.11.6"
  }
 },
 "nbformat": 4,
 "nbformat_minor": 5
}
